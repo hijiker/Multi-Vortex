{
 "cells": [
  {
   "cell_type": "code",
   "execution_count": 1,
   "metadata": {},
   "outputs": [],
   "source": [
    "import numpy as np\n",
    "import matplotlib.pyplot as plt\n",
    "from matplotlib.mlab import psd"
   ]
  },
  {
   "cell_type": "markdown",
   "metadata": {},
   "source": [
    "### NACA 4 digit airfoil generator"
   ]
  },
  {
   "cell_type": "code",
   "execution_count": 2,
   "metadata": {},
   "outputs": [],
   "source": [
    "def naca_airfoil(code, num_points, zero_thick_te=False, uniform=False):\n",
    "    \"\"\"Return a NACA 4-digit series airfoil\"\"\"\n",
    "    # extract parameters from 4-digit code\n",
    "    code_str = \"%04d\" % int(code)\n",
    "    if len(code_str) != 4:\n",
    "        raise ValueError(\"NACA designation is more than 4 digits\")\n",
    "    max_camber = 0.01 * int(code_str[0])\n",
    "    p = 0.1 * int(code_str[1])  # location of max camber\n",
    "    thickness = 0.01 * int(code_str[2:])\n",
    "    if uniform:\n",
    "        x = np.linspace(0, 1, num_points)\n",
    "    else:\n",
    "        # closer spacing near leading edge\n",
    "        theta = np.linspace(0, 0.5 * np.pi, num_points)\n",
    "        x = 1 - np.cos(theta)\n",
    "\n",
    "    # thickness\n",
    "    coefs = [-0.1015, 0.2843, -0.3516, -0.1260, 0, 0.2969]\n",
    "    if zero_thick_te:\n",
    "        coefs[0] = -0.1036\n",
    "    y_thick = 5 * thickness * (np.polyval(coefs[:5], x) +\n",
    "                               coefs[5] * np.sqrt(x))\n",
    "\n",
    "    # camber\n",
    "    front = np.where(x <= p)\n",
    "    back = np.where(x > p)\n",
    "    y_camber = np.zeros_like(x)\n",
    "    if p:\n",
    "        y_camber[front] = max_camber * x[front] / p**2 * (2 * p - x[front])\n",
    "        y_camber[back] = max_camber * ((1. - x[back])/(1. - p)**2 *\n",
    "                                       (1 + x[back] - 2 * p))\n",
    "    x = np.hstack([x[-1:0:-1], x])\n",
    "    y = np.hstack([y_camber[-1:0:-1] + y_thick[-1:0:-1],\n",
    "                   y_camber - y_thick])\n",
    "    return (np.array([x, y]).T)"
   ]
  },
  {
   "cell_type": "markdown",
   "metadata": {},
   "source": [
    "### Declaring a variable to store cooridnates of airfoil"
   ]
  },
  {
   "cell_type": "code",
   "execution_count": 3,
   "metadata": {},
   "outputs": [],
   "source": [
    "q = naca_airfoil(0012, 101)"
   ]
  },
  {
   "cell_type": "markdown",
   "metadata": {},
   "source": [
    "### Collacation point (obervations point on the airfoil where the vortex influence will be captured)"
   ]
  },
  {
   "cell_type": "code",
   "execution_count": 4,
   "metadata": {},
   "outputs": [],
   "source": [
    "q_mid = (q[1:] + q[:-1])/2"
   ]
  },
  {
   "cell_type": "markdown",
   "metadata": {},
   "source": [
    "### Defining the computational domain where the vortices are distributed"
   ]
  },
  {
   "cell_type": "code",
   "execution_count": 5,
   "metadata": {},
   "outputs": [],
   "source": [
    "length = 100. #nondimensional length of window\n",
    "height = 0.2 #window height\n",
    "v0 = 5 #convection speed\n",
    "N = 10000 #number of vortices\n",
    "gammas = 1. #vortex strength RMS (normal distribution)\n",
    "rscale = 0.1 #vortex size scale (rayleigh distribution parameter)\n",
    "t0 = -(length / v0 / 2)  #start time for observation of convection\n",
    "t1 = (length / v0 / 2)   #end time\n",
    "ts = 0.001 # time step"
   ]
  },
  {
   "cell_type": "markdown",
   "metadata": {},
   "source": [
    "### Set random distribution for vortex location, size and strength\n",
    "origin at window center"
   ]
  },
  {
   "cell_type": "code",
   "execution_count": 6,
   "metadata": {},
   "outputs": [],
   "source": [
    "vortx = np.random.uniform(low=-length/2,high=length/2,size=N)\n",
    "vorty = np.random.uniform(low=-height/2,high=height/2,size=N)\n",
    "vortX = np.vstack((vortx,vorty))\n",
    "gamma = np.random.normal(scale=gammas,size=N)\n",
    "rho = np.random.rayleigh(scale=rscale,size=N)"
   ]
  },
  {
   "cell_type": "markdown",
   "metadata": {},
   "source": [
    "### Solver/time-stepper"
   ]
  },
  {
   "cell_type": "code",
   "execution_count": 7,
   "metadata": {},
   "outputs": [
    {
     "name": "stdout",
     "output_type": "stream",
     "text": [
      "[-10.     -9.999  -9.998 ...   9.997   9.998   9.999]\n"
     ]
    }
   ],
   "source": [
    "t = np.arange(t0,t1,ts) # number of time-steps\n",
    "print t"
   ]
  },
  {
   "cell_type": "code",
   "execution_count": 15,
   "metadata": {},
   "outputs": [
    {
     "ename": "SyntaxError",
     "evalue": "invalid syntax (<ipython-input-15-ebb0aebced47>, line 3)",
     "output_type": "error",
     "traceback": [
      "\u001b[1;36m  File \u001b[1;32m\"<ipython-input-15-ebb0aebced47>\"\u001b[1;36m, line \u001b[1;32m3\u001b[0m\n\u001b[1;33m    print \"this is the iteration {} / {}\".format(i, len(t))\u001b[0m\n\u001b[1;37m                                        ^\u001b[0m\n\u001b[1;31mSyntaxError\u001b[0m\u001b[1;31m:\u001b[0m invalid syntax\n"
     ]
    }
   ],
   "source": [
    "A = [] # empty array to store cl value after each iteration\n",
    "for i in range(len(t)):\n",
    "    print \"this is the iteration {} / {}\".format(i, len(t))\n",
    "    i = i * ts * v0\n",
    "    obsx = q_mid[:,0] + (length/2)\n",
    "    obsx = (obsx - i )\n",
    "    obsy = q_mid[:,1]\n",
    "    obsX = np.vstack((obsx,obsy))\n",
    "    dist = obsX[:,:,np.newaxis]-vortX[:,np.newaxis,:] # dim 2 x timesteps x N\n",
    "    r = np.sqrt((dist*dist).sum(0)) # dim timesteps x N\n",
    "    utheta = 16 * gamma * (rho**(-3)) * np.exp(-8*(rho**(-4)) * r**2) * (3-(16 * (rho**(-4)) * r**2)) * r   # Mexican-hat shape\n",
    "    uind = utheta * dist[::-1] # dim 2 x timesteps x N\n",
    "    uind[0] *= -1 # change sign for ux (to get correct rotation)\n",
    "    utot = uind.sum(2) # dim 2 x timesteps\n",
    "    q_newx = q[:,0] + (length/2)\n",
    "    q_newx = q_newx - i\n",
    "    q_newy = q[:,1]\n",
    "    q = np.array([q_newx, q_newy]).T\n",
    "    dq = np.diff(q, axis=0)\n",
    "    numpanels = dq.shape[0]\n",
    "    lengths = np.linalg.norm(dq, axis=1) \n",
    "    normals = np.transpose(np.array([dq[:,1], -dq[:,0]]) / lengths)\n",
    "    tangents = -np.transpose(np.array([dq[:,0], dq[:,1]]) / lengths)\n",
    "    utot_tangent = utot.T * tangents\n",
    "    utot_tangent_magnitude = pow((pow(utot_tangent[:,0],2) + pow(utot_tangent[:,1],2)), 0.5)\n",
    "    cp = (1 - ((utot_tangent_magnitude**2)/v0**2))\n",
    "    cp = cp * normals[:,1]\n",
    "    cl = cp.sum(0)\n",
    "    A.append(cl)"
   ]
  },
  {
   "cell_type": "markdown",
   "metadata": {},
   "source": [
    "#### Unsteady lift"
   ]
  },
  {
   "cell_type": "code",
   "execution_count": 10,
   "metadata": {},
   "outputs": [],
   "source": [
    "A = np.array(A)"
   ]
  },
  {
   "cell_type": "markdown",
   "metadata": {},
   "source": [
    "### Curle's analogy to obtain p' at a distance of 1 unit at theta=90 deg"
   ]
  },
  {
   "cell_type": "code",
   "execution_count": 11,
   "metadata": {},
   "outputs": [],
   "source": [
    "def Curles_loadingNoise(y_int,c_sound,r_dist,L,dt,Velo):\n",
    "    p_acoustic = (((y_int*L)/(4*np.pi*dt*c_sound*(r_dist**2)))*(0.5*1.225*pow(Velo,2)))\n",
    "    return p_acoustic\n",
    "\n",
    "noise = Curles_loadingNoise(1,343,1,np.abs(A),ts,v0)\n",
    "H = ((noise)/(2.e-5))**2"
   ]
  },
  {
   "cell_type": "markdown",
   "metadata": {},
   "source": [
    "### Plot unsteady lift on the airfoil and the SPL in far-field "
   ]
  },
  {
   "cell_type": "code",
   "execution_count": 12,
   "metadata": {},
   "outputs": [
    {
     "data": {
      "text/plain": [
       "<function matplotlib.pyplot.show>"
      ]
     },
     "execution_count": 12,
     "metadata": {},
     "output_type": "execute_result"
    },
    {
     "data": {
      "image/png": "[encoded data removed]",
      "text/plain": [
       "<Figure size 432x288 with 2 Axes>"
      ]
     },
     "metadata": {},
     "output_type": "display_data"
    }
   ],
   "source": [
    "plt.figure(1)\n",
    "plt.subplot(1,2,1)\n",
    "plt.plot(t,A,label='cl')\n",
    "plt.title('Unsteady coefficient of lift')\n",
    "plt.xlabel('time, s')\n",
    "plt.ylabel('cl')\n",
    "plt.legend()\n",
    "plt.subplot(1,2,2)\n",
    "(val, freq) = psd(H, NFFT=512,Fs=1/ts,detrend='mean')\n",
    "plt.semilogx(freq,10*np.log10(val),label='SPL')\n",
    "plt.title('Sound Pressure Level (dB)')\n",
    "plt.xlabel('Frequency')\n",
    "plt.ylabel('SPL, dB')\n",
    "plt.legend()\n",
    "plt.savefig('cl_SPL.pdf')\n",
    "plt.show"
   ]
  },
  {
   "cell_type": "code",
   "execution_count": null,
   "metadata": {},
   "outputs": [],
   "source": []
  }
 ],
 "metadata": {
  "kernelspec": {
   "display_name": "Python 2",
   "language": "python",
   "name": "python2"
  },
  "language_info": {
   "codemirror_mode": {
    "name": "ipython",
    "version": 2
   },
   "file_extension": ".py",
   "mimetype": "text/x-python",
   "name": "python",
   "nbconvert_exporter": "python",
   "pygments_lexer": "ipython2",
   "version": "2.7.16"
  }
 },
 "nbformat": 4,
 "nbformat_minor": 2
}
