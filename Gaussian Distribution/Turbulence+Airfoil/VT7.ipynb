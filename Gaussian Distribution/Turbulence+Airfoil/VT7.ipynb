{
 "cells": [
  {
   "cell_type": "code",
   "execution_count": 9,
   "metadata": {},
   "outputs": [],
   "source": [
    "import numpy as np\n",
    "import matplotlib.pyplot as plt\n",
    "from matplotlib.mlab import psd"
   ]
  },
  {
   "cell_type": "markdown",
   "metadata": {},
   "source": [
    "### NACA 4 digit airfoil generator"
   ]
  },
  {
   "cell_type": "code",
   "execution_count": 10,
   "metadata": {},
   "outputs": [],
   "source": [
    "def naca_airfoil(code, num_points, zero_thick_te=False, uniform=False):\n",
    "    \"\"\"Return a NACA 4-digit series airfoil\"\"\"\n",
    "    # extract parameters from 4-digit code\n",
    "    code_str = \"%04d\" % int(code)\n",
    "    if len(code_str) != 4:\n",
    "        raise ValueError(\"NACA designation is more than 4 digits\")\n",
    "    max_camber = 0.01 * int(code_str[0])\n",
    "    p = 0.1 * int(code_str[1])  # location of max camber\n",
    "    thickness = 0.01 * int(code_str[2:])\n",
    "    if uniform:\n",
    "        x = np.linspace(0, 1, num_points)\n",
    "    else:\n",
    "        # closer spacing near leading edge\n",
    "        theta = np.linspace(0, 0.5 * np.pi, num_points)\n",
    "        x = 1 - np.cos(theta)\n",
    "\n",
    "    # thickness\n",
    "    coefs = [-0.1015, 0.2843, -0.3516, -0.1260, 0, 0.2969]\n",
    "    if zero_thick_te:\n",
    "        coefs[0] = -0.1036\n",
    "    y_thick = 5 * thickness * (np.polyval(coefs[:5], x) +\n",
    "                               coefs[5] * np.sqrt(x))\n",
    "\n",
    "    # camber\n",
    "    front = np.where(x <= p)\n",
    "    back = np.where(x > p)\n",
    "    y_camber = np.zeros_like(x)\n",
    "    if p:\n",
    "        y_camber[front] = max_camber * x[front] / p**2 * (2 * p - x[front])\n",
    "        y_camber[back] = max_camber * ((1. - x[back])/(1. - p)**2 *\n",
    "                                       (1 + x[back] - 2 * p))\n",
    "    x = np.hstack([x[-1:0:-1], x])\n",
    "    y = np.hstack([y_camber[-1:0:-1] + y_thick[-1:0:-1],\n",
    "                   y_camber - y_thick])\n",
    "    return (np.array([x, y]).T)"
   ]
  },
  {
   "cell_type": "markdown",
   "metadata": {},
   "source": [
    "### Declaring a variable to store cooridnates of airfoil"
   ]
  },
  {
   "cell_type": "code",
   "execution_count": 11,
   "metadata": {},
   "outputs": [],
   "source": [
    "q = naca_airfoil(0012, 101)"
   ]
  },
  {
   "cell_type": "markdown",
   "metadata": {},
   "source": [
    "### Collacation point (obervations point on the airfoil where the vortex influence will be captured)"
   ]
  },
  {
   "cell_type": "code",
   "execution_count": 12,
   "metadata": {},
   "outputs": [],
   "source": [
    "q_mid = (q[1:] + q[:-1])/2"
   ]
  },
  {
   "cell_type": "markdown",
   "metadata": {},
   "source": [
    "### Defining the computational domain where the vortices are distributed"
   ]
  },
  {
   "cell_type": "code",
   "execution_count": 13,
   "metadata": {},
   "outputs": [],
   "source": [
    "length = 10. #nondimensional length of window\n",
    "height = 0.2 #window height\n",
    "v0 = 5 #convection speed\n",
    "N = 10000 #number of vortices\n",
    "gammas = 1. #vortex strength RMS (normal distribution)\n",
    "rscale = 0.1 #vortex size scale (rayleigh distribution parameter)\n",
    "t0 = -(length / v0 / 2)  #start time for observation of convection\n",
    "t1 = (length / v0 / 2)   #end time\n",
    "ts = 0.01 # time step"
   ]
  },
  {
   "cell_type": "markdown",
   "metadata": {},
   "source": [
    "### Set random distribution for vortex location, size and strength\n",
    "origin at window center"
   ]
  },
  {
   "cell_type": "code",
   "execution_count": 14,
   "metadata": {},
   "outputs": [],
   "source": [
    "vortx = np.random.uniform(low=-length/2,high=length/2,size=N)\n",
    "vorty = np.random.uniform(low=-height/2,high=height/2,size=N)\n",
    "vortX = np.vstack((vortx,vorty))\n",
    "gamma = np.random.normal(scale=gammas,size=N)\n",
    "rho = np.random.rayleigh(scale=rscale,size=N)"
   ]
  },
  {
   "cell_type": "markdown",
   "metadata": {},
   "source": [
    "### Solver/time-stepper"
   ]
  },
  {
   "cell_type": "code",
   "execution_count": 15,
   "metadata": {},
   "outputs": [
    {
     "name": "stdout",
     "output_type": "stream",
     "text": [
      "[-1.0000000e+00 -9.9000000e-01 -9.8000000e-01 -9.7000000e-01\n",
      " -9.6000000e-01 -9.5000000e-01 -9.4000000e-01 -9.3000000e-01\n",
      " -9.2000000e-01 -9.1000000e-01 -9.0000000e-01 -8.9000000e-01\n",
      " -8.8000000e-01 -8.7000000e-01 -8.6000000e-01 -8.5000000e-01\n",
      " -8.4000000e-01 -8.3000000e-01 -8.2000000e-01 -8.1000000e-01\n",
      " -8.0000000e-01 -7.9000000e-01 -7.8000000e-01 -7.7000000e-01\n",
      " -7.6000000e-01 -7.5000000e-01 -7.4000000e-01 -7.3000000e-01\n",
      " -7.2000000e-01 -7.1000000e-01 -7.0000000e-01 -6.9000000e-01\n",
      " -6.8000000e-01 -6.7000000e-01 -6.6000000e-01 -6.5000000e-01\n",
      " -6.4000000e-01 -6.3000000e-01 -6.2000000e-01 -6.1000000e-01\n",
      " -6.0000000e-01 -5.9000000e-01 -5.8000000e-01 -5.7000000e-01\n",
      " -5.6000000e-01 -5.5000000e-01 -5.4000000e-01 -5.3000000e-01\n",
      " -5.2000000e-01 -5.1000000e-01 -5.0000000e-01 -4.9000000e-01\n",
      " -4.8000000e-01 -4.7000000e-01 -4.6000000e-01 -4.5000000e-01\n",
      " -4.4000000e-01 -4.3000000e-01 -4.2000000e-01 -4.1000000e-01\n",
      " -4.0000000e-01 -3.9000000e-01 -3.8000000e-01 -3.7000000e-01\n",
      " -3.6000000e-01 -3.5000000e-01 -3.4000000e-01 -3.3000000e-01\n",
      " -3.2000000e-01 -3.1000000e-01 -3.0000000e-01 -2.9000000e-01\n",
      " -2.8000000e-01 -2.7000000e-01 -2.6000000e-01 -2.5000000e-01\n",
      " -2.4000000e-01 -2.3000000e-01 -2.2000000e-01 -2.1000000e-01\n",
      " -2.0000000e-01 -1.9000000e-01 -1.8000000e-01 -1.7000000e-01\n",
      " -1.6000000e-01 -1.5000000e-01 -1.4000000e-01 -1.3000000e-01\n",
      " -1.2000000e-01 -1.1000000e-01 -1.0000000e-01 -9.0000000e-02\n",
      " -8.0000000e-02 -7.0000000e-02 -6.0000000e-02 -5.0000000e-02\n",
      " -4.0000000e-02 -3.0000000e-02 -2.0000000e-02 -1.0000000e-02\n",
      "  8.8817842e-16  1.0000000e-02  2.0000000e-02  3.0000000e-02\n",
      "  4.0000000e-02  5.0000000e-02  6.0000000e-02  7.0000000e-02\n",
      "  8.0000000e-02  9.0000000e-02  1.0000000e-01  1.1000000e-01\n",
      "  1.2000000e-01  1.3000000e-01  1.4000000e-01  1.5000000e-01\n",
      "  1.6000000e-01  1.7000000e-01  1.8000000e-01  1.9000000e-01\n",
      "  2.0000000e-01  2.1000000e-01  2.2000000e-01  2.3000000e-01\n",
      "  2.4000000e-01  2.5000000e-01  2.6000000e-01  2.7000000e-01\n",
      "  2.8000000e-01  2.9000000e-01  3.0000000e-01  3.1000000e-01\n",
      "  3.2000000e-01  3.3000000e-01  3.4000000e-01  3.5000000e-01\n",
      "  3.6000000e-01  3.7000000e-01  3.8000000e-01  3.9000000e-01\n",
      "  4.0000000e-01  4.1000000e-01  4.2000000e-01  4.3000000e-01\n",
      "  4.4000000e-01  4.5000000e-01  4.6000000e-01  4.7000000e-01\n",
      "  4.8000000e-01  4.9000000e-01  5.0000000e-01  5.1000000e-01\n",
      "  5.2000000e-01  5.3000000e-01  5.4000000e-01  5.5000000e-01\n",
      "  5.6000000e-01  5.7000000e-01  5.8000000e-01  5.9000000e-01\n",
      "  6.0000000e-01  6.1000000e-01  6.2000000e-01  6.3000000e-01\n",
      "  6.4000000e-01  6.5000000e-01  6.6000000e-01  6.7000000e-01\n",
      "  6.8000000e-01  6.9000000e-01  7.0000000e-01  7.1000000e-01\n",
      "  7.2000000e-01  7.3000000e-01  7.4000000e-01  7.5000000e-01\n",
      "  7.6000000e-01  7.7000000e-01  7.8000000e-01  7.9000000e-01\n",
      "  8.0000000e-01  8.1000000e-01  8.2000000e-01  8.3000000e-01\n",
      "  8.4000000e-01  8.5000000e-01  8.6000000e-01  8.7000000e-01\n",
      "  8.8000000e-01  8.9000000e-01  9.0000000e-01  9.1000000e-01\n",
      "  9.2000000e-01  9.3000000e-01  9.4000000e-01  9.5000000e-01\n",
      "  9.6000000e-01  9.7000000e-01  9.8000000e-01  9.9000000e-01]\n",
      "200\n"
     ]
    }
   ],
   "source": [
    "t = np.arange(t0,t1,ts) # number of time-steps\n",
    "print t\n",
    "print len(t)"
   ]
  },
  {
   "cell_type": "code",
   "execution_count": 16,
   "metadata": {},
   "outputs": [
    {
     "name": "stdout",
     "output_type": "stream",
     "text": [
      "this is the iteration 0 / 200\n",
      "this is the iteration 1 / 200\n",
      "this is the iteration 2 / 200\n",
      "this is the iteration 3 / 200\n",
      "this is the iteration 4 / 200\n",
      "this is the iteration 5 / 200\n",
      "this is the iteration 6 / 200\n",
      "this is the iteration 7 / 200\n",
      "this is the iteration 8 / 200\n",
      "this is the iteration 9 / 200\n",
      "this is the iteration 10 / 200\n",
      "this is the iteration 11 / 200\n",
      "this is the iteration 12 / 200\n",
      "this is the iteration 13 / 200\n",
      "this is the iteration 14 / 200\n",
      "this is the iteration 15 / 200\n",
      "this is the iteration 16 / 200\n",
      "this is the iteration 17 / 200\n",
      "this is the iteration 18 / 200\n",
      "this is the iteration 19 / 200\n",
      "this is the iteration 20 / 200\n",
      "this is the iteration 21 / 200\n",
      "this is the iteration 22 / 200\n",
      "this is the iteration 23 / 200\n",
      "this is the iteration 24 / 200\n",
      "this is the iteration 25 / 200\n",
      "this is the iteration 26 / 200\n",
      "this is the iteration 27 / 200\n",
      "this is the iteration 28 / 200\n",
      "this is the iteration 29 / 200\n",
      "this is the iteration 30 / 200\n",
      "this is the iteration 31 / 200\n",
      "this is the iteration 32 / 200\n",
      "this is the iteration 33 / 200\n",
      "this is the iteration 34 / 200\n",
      "this is the iteration 35 / 200\n",
      "this is the iteration 36 / 200\n",
      "this is the iteration 37 / 200\n",
      "this is the iteration 38 / 200\n",
      "this is the iteration 39 / 200\n",
      "this is the iteration 40 / 200\n",
      "this is the iteration 41 / 200\n",
      "this is the iteration 42 / 200\n",
      "this is the iteration 43 / 200\n",
      "this is the iteration 44 / 200\n",
      "this is the iteration 45 / 200\n",
      "this is the iteration 46 / 200\n",
      "this is the iteration 47 / 200\n",
      "this is the iteration 48 / 200\n",
      "this is the iteration 49 / 200\n",
      "this is the iteration 50 / 200\n",
      "this is the iteration 51 / 200\n",
      "this is the iteration 52 / 200\n",
      "this is the iteration 53 / 200\n",
      "this is the iteration 54 / 200\n",
      "this is the iteration 55 / 200\n",
      "this is the iteration 56 / 200\n",
      "this is the iteration 57 / 200\n",
      "this is the iteration 58 / 200\n",
      "this is the iteration 59 / 200\n",
      "this is the iteration 60 / 200\n",
      "this is the iteration 61 / 200\n",
      "this is the iteration 62 / 200\n",
      "this is the iteration 63 / 200\n",
      "this is the iteration 64 / 200\n",
      "this is the iteration 65 / 200\n",
      "this is the iteration 66 / 200\n",
      "this is the iteration 67 / 200\n",
      "this is the iteration 68 / 200\n",
      "this is the iteration 69 / 200\n",
      "this is the iteration 70 / 200\n",
      "this is the iteration 71 / 200\n",
      "this is the iteration 72 / 200\n",
      "this is the iteration 73 / 200\n",
      "this is the iteration 74 / 200\n",
      "this is the iteration 75 / 200\n",
      "this is the iteration 76 / 200\n",
      "this is the iteration 77 / 200\n",
      "this is the iteration 78 / 200\n",
      "this is the iteration 79 / 200\n",
      "this is the iteration 80 / 200\n",
      "this is the iteration 81 / 200\n",
      "this is the iteration 82 / 200\n",
      "this is the iteration 83 / 200\n",
      "this is the iteration 84 / 200\n",
      "this is the iteration 85 / 200\n",
      "this is the iteration 86 / 200\n",
      "this is the iteration 87 / 200\n",
      "this is the iteration 88 / 200\n",
      "this is the iteration 89 / 200\n",
      "this is the iteration 90 / 200\n",
      "this is the iteration 91 / 200\n",
      "this is the iteration 92 / 200\n",
      "this is the iteration 93 / 200\n",
      "this is the iteration 94 / 200\n",
      "this is the iteration 95 / 200\n",
      "this is the iteration 96 / 200\n",
      "this is the iteration 97 / 200\n",
      "this is the iteration 98 / 200\n",
      "this is the iteration 99 / 200\n",
      "this is the iteration 100 / 200\n",
      "this is the iteration 101 / 200\n",
      "this is the iteration 102 / 200\n",
      "this is the iteration 103 / 200\n",
      "this is the iteration 104 / 200\n",
      "this is the iteration 105 / 200\n",
      "this is the iteration 106 / 200\n",
      "this is the iteration 107 / 200\n",
      "this is the iteration 108 / 200\n",
      "this is the iteration 109 / 200\n",
      "this is the iteration 110 / 200\n",
      "this is the iteration 111 / 200\n",
      "this is the iteration 112 / 200\n",
      "this is the iteration 113 / 200\n",
      "this is the iteration 114 / 200\n",
      "this is the iteration 115 / 200\n",
      "this is the iteration 116 / 200\n",
      "this is the iteration 117 / 200\n",
      "this is the iteration 118 / 200\n",
      "this is the iteration 119 / 200\n",
      "this is the iteration 120 / 200\n",
      "this is the iteration 121 / 200\n",
      "this is the iteration 122 / 200\n",
      "this is the iteration 123 / 200\n",
      "this is the iteration 124 / 200\n",
      "this is the iteration 125 / 200\n",
      "this is the iteration 126 / 200\n",
      "this is the iteration 127 / 200\n",
      "this is the iteration 128 / 200\n",
      "this is the iteration 129 / 200\n",
      "this is the iteration 130 / 200\n",
      "this is the iteration 131 / 200\n",
      "this is the iteration 132 / 200\n",
      "this is the iteration 133 / 200\n",
      "this is the iteration 134 / 200\n",
      "this is the iteration 135 / 200\n",
      "this is the iteration 136 / 200\n",
      "this is the iteration 137 / 200\n",
      "this is the iteration 138 / 200\n",
      "this is the iteration 139 / 200\n",
      "this is the iteration 140 / 200\n",
      "this is the iteration 141 / 200\n",
      "this is the iteration 142 / 200\n",
      "this is the iteration 143 / 200\n",
      "this is the iteration 144 / 200\n",
      "this is the iteration 145 / 200\n",
      "this is the iteration 146 / 200\n",
      "this is the iteration 147 / 200\n",
      "this is the iteration 148 / 200\n",
      "this is the iteration 149 / 200\n",
      "this is the iteration 150 / 200\n",
      "this is the iteration 151 / 200\n",
      "this is the iteration 152 / 200\n",
      "this is the iteration 153 / 200\n",
      "this is the iteration 154 / 200\n",
      "this is the iteration 155 / 200\n",
      "this is the iteration 156 / 200\n",
      "this is the iteration 157 / 200\n",
      "this is the iteration 158 / 200\n",
      "this is the iteration 159 / 200\n",
      "this is the iteration 160 / 200\n",
      "this is the iteration 161 / 200\n",
      "this is the iteration 162 / 200\n",
      "this is the iteration 163 / 200\n",
      "this is the iteration 164 / 200\n",
      "this is the iteration 165 / 200\n",
      "this is the iteration 166 / 200\n",
      "this is the iteration 167 / 200\n",
      "this is the iteration 168 / 200\n",
      "this is the iteration 169 / 200\n",
      "this is the iteration 170 / 200\n",
      "this is the iteration 171 / 200\n",
      "this is the iteration 172 / 200\n",
      "this is the iteration 173 / 200\n",
      "this is the iteration 174 / 200\n",
      "this is the iteration 175 / 200\n",
      "this is the iteration 176 / 200\n",
      "this is the iteration 177 / 200\n",
      "this is the iteration 178 / 200\n",
      "this is the iteration 179 / 200\n",
      "this is the iteration 180 / 200\n",
      "this is the iteration 181 / 200\n",
      "this is the iteration 182 / 200\n",
      "this is the iteration 183 / 200\n",
      "this is the iteration 184 / 200\n",
      "this is the iteration 185 / 200\n",
      "this is the iteration 186 / 200\n",
      "this is the iteration 187 / 200\n",
      "this is the iteration 188 / 200\n",
      "this is the iteration 189 / 200\n",
      "this is the iteration 190 / 200\n",
      "this is the iteration 191 / 200\n",
      "this is the iteration 192 / 200\n",
      "this is the iteration 193 / 200\n",
      "this is the iteration 194 / 200\n",
      "this is the iteration 195 / 200\n",
      "this is the iteration 196 / 200\n",
      "this is the iteration 197 / 200\n",
      "this is the iteration 198 / 200\n",
      "this is the iteration 199 / 200\n"
     ]
    }
   ],
   "source": [
    "A = [] # empty array to store cl value after each iteration\n",
    "for i in range(len(t)):\n",
    "    print \"this is the iteration {} / {}\".format(i, len(t))\n",
    "    i = i * ts * v0\n",
    "    obsx = q_mid[:,0] + (length/2)\n",
    "    obsx = (obsx - i )\n",
    "    obsy = q_mid[:,1]\n",
    "    obsX = np.vstack((obsx,obsy))\n",
    "    dist = obsX[:,:,np.newaxis]-vortX[:,np.newaxis,:] # dim 2 x timesteps x N\n",
    "    r = np.sqrt((dist*dist).sum(0)) # dim timesteps x N\n",
    "    utheta = 16 * gamma * (rho**(-3)) * np.exp(-8*(rho**(-4)) * r**2) * (3-(16 * (rho**(-4)) * r**2)) * r   # Mexican-hat shape\n",
    "    uind = utheta * dist[::-1] # dim 2 x timesteps x N\n",
    "    uind[0] *= -1 # change sign for ux (to get correct rotation)\n",
    "    utot = uind.sum(2) # dim 2 x timesteps\n",
    "    q_newx = q[:,0] + (length/2)\n",
    "    q_newx = q_newx - i\n",
    "    q_newy = q[:,1]\n",
    "    q = np.array([q_newx, q_newy]).T\n",
    "    dq = np.diff(q, axis=0)\n",
    "    numpanels = dq.shape[0]\n",
    "    lengths = np.linalg.norm(dq, axis=1) \n",
    "    normals = np.transpose(np.array([dq[:,1], -dq[:,0]]) / lengths)\n",
    "    tangents = -np.transpose(np.array([dq[:,0], dq[:,1]]) / lengths)\n",
    "    utot_tangent = utot.T * tangents\n",
    "    utot_tangent_magnitude = pow((pow(utot_tangent[:,0],2) + pow(utot_tangent[:,1],2)), 0.5)\n",
    "    cp = (1 - ((utot_tangent_magnitude**2)/v0**2))\n",
    "    cp = cp * normals[:,1]\n",
    "    cl = cp.sum(0)\n",
    "    A.append(cl)"
   ]
  },
  {
   "cell_type": "markdown",
   "metadata": {},
   "source": [
    "#### Unsteady lift"
   ]
  },
  {
   "cell_type": "code",
   "execution_count": 17,
   "metadata": {},
   "outputs": [],
   "source": [
    "A = np.array(A)"
   ]
  },
  {
   "cell_type": "markdown",
   "metadata": {},
   "source": [
    "### Curle's analogy to obtain p' at a distance of 1 unit at theta=90 deg"
   ]
  },
  {
   "cell_type": "code",
   "execution_count": 18,
   "metadata": {},
   "outputs": [],
   "source": [
    "def Curles_loadingNoise(y_int,c_sound,r_dist,L,dt,Velo):\n",
    "    p_acoustic = (((y_int*L)/(4*np.pi*dt*c_sound*(r_dist**2)))*(0.5*1.225*pow(Velo,2)))\n",
    "    return p_acoustic\n",
    "\n",
    "noise = Curles_loadingNoise(1,343,1,np.abs(A),ts,v0)\n",
    "H = ((noise)/(2.e-5))**2"
   ]
  },
  {
   "cell_type": "markdown",
   "metadata": {},
   "source": [
    "### Plot unsteady lift on the airfoil and the SPL in far-field "
   ]
  },
  {
   "cell_type": "code",
   "execution_count": 19,
   "metadata": {},
   "outputs": [
    {
     "data": {
      "text/plain": [
       "<function matplotlib.pyplot.show>"
      ]
     },
     "execution_count": 19,
     "metadata": {},
     "output_type": "execute_result"
    },
    {
     "data": {
      "image/png": "[encoded data removed]",
      "text/plain": [
       "<Figure size 432x288 with 2 Axes>"
      ]
     },
     "metadata": {
      "needs_background": "light"
     },
     "output_type": "display_data"
    }
   ],
   "source": [
    "plt.figure(1)\n",
    "plt.subplot(1,2,1)\n",
    "plt.plot(t,A,label='cl')\n",
    "plt.title('Unsteady coefficient of lift')\n",
    "plt.xlabel('time, s')\n",
    "plt.ylabel('cl')\n",
    "plt.legend()\n",
    "plt.subplot(1,2,2)\n",
    "(val, freq) = psd(H, NFFT=512,Fs=1/ts,detrend='mean')\n",
    "plt.semilogx(freq,10*np.log10(val),label='SPL')\n",
    "plt.title('Sound Pressure Level (dB)')\n",
    "plt.xlabel('Frequency')\n",
    "plt.ylabel('SPL, dB')\n",
    "plt.legend()\n",
    "plt.savefig('cl_SPL.pdf')\n",
    "plt.show"
   ]
  },
  {
   "cell_type": "code",
   "execution_count": null,
   "metadata": {},
   "outputs": [],
   "source": []
  }
 ],
 "metadata": {
  "kernelspec": {
   "display_name": "Python 2",
   "language": "python",
   "name": "python2"
  },
  "language_info": {
   "codemirror_mode": {
    "name": "ipython",
    "version": 2
   },
   "file_extension": ".py",
   "mimetype": "text/x-python",
   "name": "python",
   "nbconvert_exporter": "python",
   "pygments_lexer": "ipython2",
   "version": "2.7.16"
  }
 },
 "nbformat": 4,
 "nbformat_minor": 2
}
