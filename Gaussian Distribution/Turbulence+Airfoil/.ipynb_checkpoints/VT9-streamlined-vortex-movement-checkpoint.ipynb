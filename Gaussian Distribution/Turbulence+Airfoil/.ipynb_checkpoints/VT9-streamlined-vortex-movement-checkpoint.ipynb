{
 "cells": [
  {
   "cell_type": "markdown",
   "metadata": {},
   "source": [
    "### Tasks"
   ]
  },
  {
   "cell_type": "markdown",
   "metadata": {},
   "source": [
    "- compute the steady background flow around an airfoil using the panel method you have implemented earlier\n",
    "- compute the pathlines a massless particle realeased well upstream the airfoil at certain y0 will follow (these are the streamlines) until well downstream the airfoil. I am not totally sure what would be the best approach to do so, but has to be repeated for all relevant y0\n",
    "- create an acoustic 1d mesh at the airfoil surface (maybe you could use just the panels if the dimensions make sense)\n",
    "- define a sampling frequency and move a vortex along the pathline/streamline, compute the time-depended pressure from the vortex at all surface elements\n",
    "- integrate over the surface elements to get the farfield sound pressure (Curle) at any generic location (field point x_p,y_p). This involves also to take into account the retarded time instants due to different distances between the panels and the field point. One option would be to interpolate, another option would be to take the FFT of p at each surface element and multiply by exp(-jkr). The latter is more easy to implement (frequency domain Curle's formulation). Finally you would have the farfield sound pressure due to 1 vortex (strength,size) that started at y0.\n",
    "- repeat everything for different y0 and also for same y0, but different vortex size\n",
    "- verify that the results are different and do not just scale with a factor\n",
    "- repeat everything for same y0 and different strength\n",
    "- verify that the results are the same, except for a certain factor"
   ]
  },
  {
   "cell_type": "markdown",
   "metadata": {},
   "source": [
    "### Libraries"
   ]
  },
  {
   "cell_type": "code",
   "execution_count": 76,
   "metadata": {},
   "outputs": [],
   "source": [
    "import numpy as np\n",
    "import matplotlib.pyplot as plt\n",
    "from matplotlib.mlab import psd\n",
    "from steapy import *\n",
    "import os\n",
    "import numpy\n",
    "from numpy import *\n",
    "import math\n",
    "from scipy import integrate, linalg\n",
    "from matplotlib import pyplot\n",
    "from pylab import *\n",
    "import sympy\n",
    "from sympy.abc import x, y"
   ]
  },
  {
   "cell_type": "markdown",
   "metadata": {},
   "source": [
    "### Steady background flow around the airfoil\n",
    "#### Solved using the steady vortex particle panel code 'steapy'."
   ]
  },
  {
   "cell_type": "code",
   "execution_count": 77,
   "metadata": {},
   "outputs": [
    {
     "name": "stdout",
     "output_type": "stream",
     "text": [
      "[[5.00000000e-01 3.40155564e-04 4.30771154e-04 ... 5.01896142e-02\n",
      "  1.58111619e-01 3.12646593e-01]\n",
      " [3.52546184e-05 5.00000000e-01 4.26442149e-04 ... 1.16130459e-01\n",
      "  2.93882643e-01 1.64439946e-02]\n",
      " [6.59302673e-05 1.54014104e-04 5.00000000e-01 ... 2.66825827e-01\n",
      "  3.37155191e-02 1.87039857e-03]\n",
      " ...\n",
      " [2.48486684e-03 3.37155191e-02 2.66825827e-01 ... 5.00000000e-01\n",
      "  1.54014104e-04 1.04316880e-03]\n",
      " [2.02743243e-02 2.93882643e-01 1.16130459e-01 ... 4.26442149e-04\n",
      "  5.00000000e-01 7.79234836e-03]\n",
      " [2.60773240e-01 2.20473585e-01 8.90788829e-02 ... 4.46929298e-02\n",
      "  5.80760078e-02 5.00000000e-01]]\n",
      "[[ 0.         -0.30854015 -0.13950998 ... -0.12723681 -0.20606565\n",
      "   0.14291543]\n",
      " [ 0.08184394  0.         -0.23128594 ... -0.16833839  0.06088799\n",
      "   0.08549521]\n",
      " [ 0.02698809  0.12697675  0.         ...  0.05085858  0.10952467\n",
      "   0.03009426]\n",
      " ...\n",
      " [-0.02641539 -0.10952467 -0.05085858 ...  0.         -0.12697675\n",
      "  -0.03031634]\n",
      " [-0.07255868 -0.06088799  0.16833839 ...  0.23128594  0.\n",
      "  -0.09051304]\n",
      " [-0.1688206   0.17423001  0.10535527 ...  0.13126531  0.28895399\n",
      "   0.        ]]\n",
      "[-1.68820605e-01 -1.34310141e-01 -3.41547191e-02 -2.02363945e-02\n",
      " -1.43689697e-02 -1.10088071e-02 -8.78010101e-03 -7.16688486e-03\n",
      " -5.92802682e-03 -4.93434444e-03 -4.11042045e-03 -3.40980580e-03\n",
      " -2.80315829e-03 -2.27172809e-03 -1.80338750e-03 -1.39021551e-03\n",
      " -1.02730681e-03 -7.12912089e-04 -4.54351072e-04 -2.77422695e-04\n",
      " -2.57708793e-04 -3.64519901e-04 -4.95421636e-04 -6.20209251e-04\n",
      " -7.30534684e-04 -8.26854142e-04 -9.11916256e-04 -9.89361391e-04\n",
      " -1.06281322e-03 -1.13534166e-03 -1.20877931e-03 -1.28302235e-03\n",
      " -1.35454327e-03 -1.41202216e-03 -1.42197949e-03 -1.27206647e-03\n",
      " -4.89032447e-04  4.02850220e-03  8.28883422e-02  1.42915431e-01\n",
      " -2.78765126e+00]\n",
      "[[ 5.00000000e-01  3.40155564e-04  4.30771154e-04 ...  1.58111619e-01\n",
      "   3.12646593e-01 -1.56631881e+00]\n",
      " [ 3.52546184e-05  5.00000000e-01  4.26442149e-04 ...  2.93882643e-01\n",
      "   1.64439946e-02 -1.17312993e+00]\n",
      " [ 6.59302673e-05  1.54014104e-04  5.00000000e-01 ...  3.37155191e-02\n",
      "   1.87039857e-03 -8.83134922e-01]\n",
      " ...\n",
      " [ 2.02743243e-02  2.93882643e-01  1.16130459e-01 ...  5.00000000e-01\n",
      "   7.79234836e-03  1.17739735e+00]\n",
      " [ 2.60773240e-01  2.20473585e-01  8.90788829e-02 ...  5.80760078e-02\n",
      "   5.00000000e-01  1.35234526e+00]\n",
      " [-1.68820605e-01 -1.34310141e-01 -3.41547191e-02 ...  8.28883422e-02\n",
      "   1.42915431e-01 -2.78765126e+00]]\n",
      "[-0.13837221 -0.13641659 -0.13255203 -0.12718884 -0.1206456  -0.11321299\n",
      " -0.10490599 -0.09551052 -0.08444876 -0.07086335 -0.05372539 -0.03178236\n",
      " -0.00376452  0.03186426  0.07741303  0.13672157  0.21872144  0.3435954\n",
      "  0.56505295  0.90787672  0.90787672  0.56505295  0.3435954   0.21872144\n",
      "  0.13672157  0.07741303  0.03186426 -0.00376452 -0.03178236 -0.05372539\n",
      " -0.07086335 -0.08444876 -0.09551052 -0.10490599 -0.11321299 -0.1206456\n",
      " -0.12718884 -0.13255203 -0.13641659 -0.48130237  0.11382566]\n"
     ]
    }
   ],
   "source": [
    "# Parameters to define a NACA 4 digits airfoil\n",
    "x=1\n",
    "m=0.03\n",
    "p=0.4\n",
    "t=0.12 # maximum thickeness\n",
    "c=1\n",
    "\n",
    "coordinates_symmetrical(x, t, c)\n",
    "#coordinate = coordinates_cambered(x, m, p, t, c)\n",
    "\n",
    "'''\n",
    "Comment or Incomment the file path for the specific type of airfoil\n",
    "\n",
    "'''\n",
    "# load geometry from data file\n",
    "naca_filepath = os.path.abspath('NACA'+'_'+'00'+str(int(t*100))+'.txt') #SYMMETRICAL\n",
    "#naca_filepath = os.path.abspath('NACA'+'_'+str(int(m*100))+str(int(p*10))+str(int(t*100))+'.txt') #CAMBERED\n",
    "with open(naca_filepath, 'r') as infile:\n",
    "    x, y = numpy.loadtxt(infile, dtype=float, unpack=True)\n",
    "\n",
    "# discretize geoemetry into panels\n",
    "panels = define_panels(x, y, N=40)\n",
    "\n",
    "# define freestream conditions\n",
    "freestream = Freestream(u_inf=1.0, alpha=0.0)\n",
    "\n",
    "#solve the source contribution\n",
    "A_source = source_contribution_normal(panels)\n",
    "\n",
    "#solve the vortex contribution\n",
    "B_vortex = vortex_contribution_normal(panels)\n",
    "\n",
    "#build LHS and RHS\n",
    "A = build_singularity_matrix(A_source, B_vortex)\n",
    "b = build_freestream_rhs(panels, freestream)\n",
    "\n",
    "# solve for singularity strengths\n",
    "strengths = numpy.linalg.solve(A, b)\n",
    "\n",
    "# store source strength on each panel\n",
    "for i , panel in enumerate(panels):\n",
    "    panel.sigma = strengths[i]\n",
    "    \n",
    "# store circulation density\n",
    "gamma = strengths[-1]"
   ]
  },
  {
   "cell_type": "markdown",
   "metadata": {},
   "source": [
    "### Plot the velocity field \n",
    "#### (just for visualisation and to prove the methodology is right)"
   ]
  },
  {
   "cell_type": "code",
   "execution_count": 48,
   "metadata": {},
   "outputs": [
    {
     "data": {
      "image/png": "[encoded data removed]",
      "text/plain": [
       "<Figure size 720x720 with 1 Axes>"
      ]
     },
     "metadata": {
      "needs_background": "light"
     },
     "output_type": "display_data"
    }
   ],
   "source": [
    "#define a mesh grid\n",
    "nx, ny = 50, 50  # number of points in the x and y directions\n",
    "x_start, x_end = -1.0, 2.0\n",
    "y_start, y_end = -0.5, 0.5\n",
    "X, Y = numpy.meshgrid(numpy.linspace(x_start, x_end, nx),\n",
    "                      numpy.linspace(y_start, y_end, ny))\n",
    "\n",
    "#compute the velocity field on the mesh grid\n",
    "u, v = get_velocity_field(panels, freestream, X, Y)\n",
    "\n",
    "#plot the velocity field\n",
    "width = 10\n",
    "\n",
    "pyplot.figure(figsize=(width, width))\n",
    "#pyplot.figure(figsize=(20,20))\n",
    "pyplot.xlabel('x', fontsize=16)\n",
    "pyplot.ylabel('y', fontsize=16)\n",
    "pyplot.streamplot(X, Y, u, v,\n",
    "                 density=1, linewidth=1, arrowsize=1, arrowstyle='->')\n",
    "pyplot.fill([panel.xc for panel in panels],\n",
    "           [panel.yc for panel in panels],\n",
    "           color='k', linestyle='solid', linewidth=2, zorder=3)\n",
    "pyplot.axis('scaled', adjustable='box')\n",
    "pyplot.xlim(x_start, x_end)\n",
    "pyplot.ylim(y_start, y_end)\n",
    "pyplot.ylim(1,-1)\n",
    "#pyplot.title('Streamlines around a NACA 0012 airfoil (AoA = ${}^o$)'.format(alpha), fontsize=16);\n",
    "# savefig('Velo_NACA'+'_'+str(int(m*100))+str(int(p*10))+str(int(t*100))+'.pdf')\n",
    "show()"
   ]
  },
  {
   "cell_type": "markdown",
   "metadata": {},
   "source": [
    "# Tracer particle coordinates"
   ]
  },
  {
   "cell_type": "markdown",
   "metadata": {},
   "source": [
    "### NACA 4 digit airfoil generator"
   ]
  },
  {
   "cell_type": "code",
   "execution_count": 78,
   "metadata": {},
   "outputs": [],
   "source": [
    "def naca_airfoil(code, num_points, zero_thick_te=False, uniform=False):\n",
    "    \"\"\"Return a NACA 4-digit series airfoil\"\"\"\n",
    "    # extract parameters from 4-digit code\n",
    "    code_str = \"%04d\" % int(code)\n",
    "    if len(code_str) != 4:\n",
    "        raise ValueError(\"NACA designation is more than 4 digits\")\n",
    "    max_camber = 0.01 * int(code_str[0])\n",
    "    p = 0.1 * int(code_str[1])  # location of max camber\n",
    "    thickness = 0.01 * int(code_str[2:])\n",
    "    if uniform:\n",
    "        x = np.linspace(0, 1, num_points)\n",
    "    else:\n",
    "        # closer spacing near leading edge\n",
    "        theta = np.linspace(0, 0.5 * np.pi, num_points)\n",
    "        x = 1 - np.cos(theta)\n",
    "\n",
    "    # thickness\n",
    "    coefs = [-0.1015, 0.2843, -0.3516, -0.1260, 0, 0.2969]\n",
    "    if zero_thick_te:\n",
    "        coefs[0] = -0.1036\n",
    "    y_thick = 5 * thickness * (np.polyval(coefs[:5], x) +\n",
    "                               coefs[5] * np.sqrt(x))\n",
    "\n",
    "    # camber\n",
    "    front = np.where(x <= p)\n",
    "    back = np.where(x > p)\n",
    "    y_camber = np.zeros_like(x)\n",
    "    if p:\n",
    "        y_camber[front] = max_camber * x[front] / p**2 * (2 * p - x[front])\n",
    "        y_camber[back] = max_camber * ((1. - x[back])/(1. - p)**2 *\n",
    "                                       (1 + x[back] - 2 * p))\n",
    "    x = np.hstack([x[-1:0:-1], x])\n",
    "    y = np.hstack([y_camber[-1:0:-1] + y_thick[-1:0:-1],\n",
    "                   y_camber - y_thick])\n",
    "    return (np.array([x, y]).T)"
   ]
  },
  {
   "cell_type": "markdown",
   "metadata": {},
   "source": [
    "### Declaring a variable to store cooridnates of airfoil"
   ]
  },
  {
   "cell_type": "code",
   "execution_count": 79,
   "metadata": {},
   "outputs": [],
   "source": [
    "q = naca_airfoil(0012, 101)"
   ]
  },
  {
   "cell_type": "markdown",
   "metadata": {},
   "source": [
    "### Collacation point (obervations point on the airfoil where the vortex influence will be captured)"
   ]
  },
  {
   "cell_type": "code",
   "execution_count": 80,
   "metadata": {},
   "outputs": [],
   "source": [
    "q_mid = (q[1:] + q[:-1])/2"
   ]
  },
  {
   "cell_type": "markdown",
   "metadata": {},
   "source": [
    "### Defining the computational domain where the vortices are distributed"
   ]
  },
  {
   "cell_type": "markdown",
   "metadata": {},
   "source": [
    "<img src=\"tracer.JPG\" alt=\"Drawing\" style=\"width: 700px;\"/>"
   ]
  },
  {
   "cell_type": "markdown",
   "metadata": {},
   "source": [
    "### Injecting vortex from x = -1.0, y = random (y_start, y_end)\n",
    "origin at window center"
   ]
  },
  {
   "cell_type": "code",
   "execution_count": 127,
   "metadata": {},
   "outputs": [
    {
     "name": "stdout",
     "output_type": "stream",
     "text": [
      "[[-4.99000656 -4.98001315 -4.97001975 ...  4.97006909  4.98006343\n",
      "   4.9900578 ]\n",
      " [ 0.09838431  0.09838448  0.09838465 ...  0.10110473  0.10110443\n",
      "   0.10110412]]\n"
     ]
    },
    {
     "data": {
      "text/plain": [
       "<function matplotlib.pyplot.show>"
      ]
     },
     "execution_count": 127,
     "metadata": {},
     "output_type": "execute_result"
    },
    {
     "data": {
      "image/png": "[encoded data removed]",
      "text/plain": [
       "<Figure size 1080x360 with 1 Axes>"
      ]
     },
     "metadata": {
      "needs_background": "light"
     },
     "output_type": "display_data"
    }
   ],
   "source": [
    "import numpy as np\n",
    "x_start = -5.0\n",
    "y_start, y_end = -0.1, 0.1\n",
    "ylim = y_start, y_end\n",
    "\n",
    "#function to give a random number between y_lim\n",
    "def random_y(ylim):\n",
    "    yrange = np.diff(ylim)\n",
    "    return yrange * np.random.rand(1)[0] + ylim[0]\n",
    "\n",
    "random_y(ylim)\n",
    "# print (random_y)\n",
    "\n",
    "\n",
    "pts = [] # empty list\n",
    "pts = list(pts)\n",
    "pts=((x_start, random_y(ylim)[0]))\n",
    "# pts=((x_start, 0))\n",
    "# print pts\n",
    "pts = np.asarray(pts)\n",
    "x, y = np.asarray(pts).transpose()\n",
    "# print (x,y)\n",
    "\n",
    "n = 1000\n",
    "a = np.zeros((1,n))\n",
    "b = np.zeros((1,n))\n",
    "\n",
    "for i in range(0,n):\n",
    "\n",
    "    dt = 0.01\n",
    "#    u, v = get_velocity_field(panels, freestream, x, y)\n",
    "#    print (u,v)\n",
    "\n",
    "    vel = (np.asarray(get_velocity_field(panels, freestream, x, y))).T\n",
    "#    print (vel)\n",
    "    pts = pts + (vel*dt)\n",
    "    x, y = np.asarray(pts).transpose()\n",
    "#     print (pts)\n",
    "    a[0,i] = x\n",
    "    b[0,i] = y\n",
    "    \n",
    "vortX = np.vstack((a,b))\n",
    "print vortX\n",
    "\n",
    "plt.figure(figsize=(15, 5))\n",
    "plt.plot(vortX[0],vortX[1],label='streamline')\n",
    "pyplot.fill([panel.xc for panel in panels],\n",
    "           [panel.yc for panel in panels],\n",
    "           color='k', linestyle='solid', linewidth=2, zorder=3)\n",
    "plt.title('tracer particle',fontsize=16)\n",
    "plt.xlabel('x',fontsize=16)\n",
    "plt.ylabel('y',fontsize=16)\n",
    "pyplot.axis('scaled', adjustable='box')\n",
    "pyplot.xlim(-1,2)\n",
    "pyplot.ylim(-0.5,0.5)\n",
    "plt.savefig('tracer.pdf')\n",
    "plt.show"
   ]
  },
  {
   "cell_type": "markdown",
   "metadata": {},
   "source": [
    "### Calculating distance between the vortex and each panel on airfoil surface"
   ]
  },
  {
   "cell_type": "code",
   "execution_count": 128,
   "metadata": {},
   "outputs": [],
   "source": [
    "obsx = q_mid[:,0]\n",
    "# obsx = (obsx - i )\n",
    "obsy = q_mid[:,1]\n",
    "obsX = np.vstack((obsx,obsy))\n",
    "# print obsX\n",
    "dist = obsX[:,:,np.newaxis]-vortX[:,np.newaxis,:] # dim 2 x timesteps x N\n",
    "r = np.sqrt((dist*dist).sum(0)) # dim timesteps x N\n",
    "# print r"
   ]
  },
  {
   "cell_type": "markdown",
   "metadata": {},
   "source": [
    "### Vortex strength and size"
   ]
  },
  {
   "cell_type": "code",
   "execution_count": 138,
   "metadata": {},
   "outputs": [
    {
     "name": "stdout",
     "output_type": "stream",
     "text": [
      "-0.0224478750186 0.143857906659\n"
     ]
    }
   ],
   "source": [
    "gammas = 1. #vortex strength RMS (normal distribution)\n",
    "rscale = 0.1 #vortex size scale (rayleigh distribution parameter)\n",
    "gamma = np.random.normal(scale=gammas)\n",
    "rho = np.random.rayleigh(scale=rscale)\n",
    "print gamma, rho"
   ]
  },
  {
   "cell_type": "markdown",
   "metadata": {},
   "source": [
    "### Velocity calculation"
   ]
  },
  {
   "cell_type": "code",
   "execution_count": 163,
   "metadata": {},
   "outputs": [],
   "source": [
    "gamma = 10\n",
    "rho = 0.5\n",
    "utheta = 16 * gamma * (rho**(-3)) * np.exp(-8*(rho**(-4)) * r**2) * (3-(16 * (rho**(-4)) * r**2)) * r   # Mexican-hat shape\n",
    "# utheta = format(utheta)\n",
    "# print utheta\n",
    "savetxt('utheta.txt',np.column_stack(utheta), fmt='%0.5f', delimiter=',')\n",
    "uind = utheta * dist[::-1] # dim 2 x timesteps x N\n",
    "# print uind\n",
    "uind[0] *= -1 # change sign for ux (to get correct rotation)\n",
    "# print uind\n",
    "# print uind.T\n",
    "savetxt('utheta_mag_i_j.txt',np.column_stack((utheta,uind[0],uind[1])), fmt='%0.5f', delimiter=',')\n",
    "# utot = uind.sum(2) # dim 2 x timesteps\n",
    "# print utot"
   ]
  },
  {
   "cell_type": "markdown",
   "metadata": {},
   "source": [
    "### Pressure calculation using Bernoulli's equation"
   ]
  },
  {
   "cell_type": "code",
   "execution_count": 164,
   "metadata": {},
   "outputs": [],
   "source": [
    "v0 = 1 # empty array to store cl value after each iteration\n",
    "q_newx = q[:,0]\n",
    "q_newy = q[:,1]\n",
    "q = np.array([q_newx, q_newy]).T\n",
    "dq = np.diff(q, axis=0)\n",
    "numpanels = dq.shape[0]\n",
    "lengths = np.linalg.norm(dq, axis=1) \n",
    "normals = np.transpose(np.array([dq[:,1], -dq[:,0]]) / lengths)\n",
    "tangents = -np.transpose(np.array([dq[:,0], dq[:,1]]) / lengths)\n",
    "# print tangents\n",
    "utot_tangent = uind.T * tangents\n",
    "# print utot_tangent\n",
    "# print utot_tangent[:,:,0]\n",
    "utot_tangent_magnitude = pow((pow(utot_tangent[:,:,0],2) + pow(utot_tangent[:,:,1],2)), 0.5)\n",
    "# print utot_tangent_magnitude\n",
    "p_ref =0\n",
    "p = p_ref + (0.5 * 1.225 * (1**2 - utot_tangent_magnitude**2))\n",
    "# print p\n",
    "F = p * lengths\n",
    "# print F\n",
    "G = F.sum(axis=1) # dim 2 x timesteps\n",
    "# print G\n",
    "cp = (1 - ((utot_tangent_magnitude**2)/v0**2))\n",
    "cp = cp * normals[:,1]\n",
    "# print cp"
   ]
  },
  {
   "cell_type": "markdown",
   "metadata": {},
   "source": [
    "### Curle's analogy to obtain p' at a distance of 1 unit at theta=90 deg"
   ]
  },
  {
   "cell_type": "code",
   "execution_count": 165,
   "metadata": {},
   "outputs": [
    {
     "data": {
      "image/png": "[encoded data removed]",
      "text/plain": [
       "<Figure size 432x288 with 1 Axes>"
      ]
     },
     "metadata": {
      "needs_background": "light"
     },
     "output_type": "display_data"
    }
   ],
   "source": [
    "def Curles_loadingNoise(y_int,c_sound,r_dist,L,dt,Velo):\n",
    "    p_acoustic = (((y_int*L)/(4*np.pi*dt*c_sound*(r_dist**2)))*(0.5*1.225*pow(Velo,2)))\n",
    "    return p_acoustic\n",
    "\n",
    "noise = Curles_loadingNoise(1,343,1,G,dt,v0)\n",
    "# print noise\n",
    "H = ((noise)/(2.e-5))**2\n",
    "# print H\n",
    "(val, freq) = psd(H, NFFT=512,Fs=1/dt,detrend='mean')\n",
    "SPL = 10*np.log10(val)\n",
    "# print SPL"
   ]
  },
  {
   "cell_type": "markdown",
   "metadata": {},
   "source": [
    "### Plot unsteady lift on the airfoil and the SPL in far-field "
   ]
  },
  {
   "cell_type": "code",
   "execution_count": 133,
   "metadata": {},
   "outputs": [
    {
     "data": {
      "text/plain": [
       "<function matplotlib.pyplot.show>"
      ]
     },
     "execution_count": 133,
     "metadata": {},
     "output_type": "execute_result"
    },
    {
     "data": {
      "image/png": "[encoded data removed]",
      "text/plain": [
       "<Figure size 432x288 with 1 Axes>"
      ]
     },
     "metadata": {
      "needs_background": "light"
     },
     "output_type": "display_data"
    }
   ],
   "source": [
    "cl = G / (0.5 * 1.225 * v0**2)\n",
    "plt.figure(1)\n",
    "plt.plot(cl,label='cl')\n",
    "plt.title('Unsteady coefficient of lift')\n",
    "plt.xlabel('time, s')\n",
    "plt.ylabel('cl')\n",
    "plt.legend()\n",
    "plt.savefig('cl_SPL.pdf')\n",
    "plt.show"
   ]
  },
  {
   "cell_type": "code",
   "execution_count": null,
   "metadata": {},
   "outputs": [],
   "source": []
  }
 ],
 "metadata": {
  "kernelspec": {
   "display_name": "Python 2",
   "language": "python",
   "name": "python2"
  },
  "language_info": {
   "codemirror_mode": {
    "name": "ipython",
    "version": 2
   },
   "file_extension": ".py",
   "mimetype": "text/x-python",
   "name": "python",
   "nbconvert_exporter": "python",
   "pygments_lexer": "ipython2",
   "version": "2.7.16"
  }
 },
 "nbformat": 4,
 "nbformat_minor": 2
}
