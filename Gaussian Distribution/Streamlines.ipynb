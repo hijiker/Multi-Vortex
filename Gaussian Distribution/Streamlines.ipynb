{
 "cells": [
  {
   "cell_type": "code",
   "execution_count": 1,
   "metadata": {},
   "outputs": [],
   "source": [
    "import sympy\n",
    "from sympy.abc import x, y\n",
    "\n",
    "def velocity_field(psi):\n",
    "    u = sympy.lambdify((x, y), psi.diff(y), 'numpy')\n",
    "    v = sympy.lambdify((x, y), -psi.diff(x), 'numpy')\n",
    "    return u, v"
   ]
  },
  {
   "cell_type": "code",
   "execution_count": 2,
   "metadata": {},
   "outputs": [],
   "source": [
    "import numpy as np\n",
    "from matplotlib import mlab\n",
    "from scipy import integrate\n",
    "\n",
    "def euler(f, pts, dt):\n",
    "    vel = np.asarray([f(xy) for xy in pts])\n",
    "    return pts + vel * dt\n",
    "\n",
    "def rk4(f, pts, dt):\n",
    "    new_pts = [mlab.rk4(f, xy, [0, dt])[-1] for xy in pts]\n",
    "    return new_pts\n",
    "\n",
    "def ode_scipy(f, pts, dt):\n",
    "    new_pts = [integrate.odeint(f, xy, [0, dt])[-1] for xy in pts]\n",
    "    return new_pts\n",
    "\n",
    "available_integrators = dict(euler=euler, rk4=rk4, scipy=ode_scipy)"
   ]
  },
  {
   "cell_type": "code",
   "execution_count": 3,
   "metadata": {},
   "outputs": [],
   "source": [
    "def displace_func_from_velocity_funcs(u_func, v_func, method='rk4'):\n",
    "    \"\"\"Return function that calculates particle positions after time step.\n",
    "\n",
    "    Parameters\n",
    "    ----------\n",
    "    u_func, v_func : functions\n",
    "        Velocity fields which return velocities at arbitrary coordinates.\n",
    "    method : {'euler' | 'rk4' | 'scipy'}\n",
    "        Integration method to update particle positions at each time step.\n",
    "    \"\"\"\n",
    "\n",
    "    def velocity(xy, t=0):\n",
    "        \"\"\"Return (u, v) velocities for given (x, y) coordinates.\"\"\"\n",
    "        # Dummy `t` variable required to work with integrators\n",
    "        # Must return a list (not a tuple) for scipy's integrate functions.\n",
    "        return [u_func(*xy), v_func(*xy)]\n",
    "\n",
    "    odeint = available_integrators[method]\n",
    "\n",
    "    def displace(xy, dt):\n",
    "        return odeint(velocity, xy, dt)\n",
    "\n",
    "    return displace"
   ]
  },
  {
   "cell_type": "code",
   "execution_count": 4,
   "metadata": {},
   "outputs": [],
   "source": [
    "import matplotlib.pyplot as plt\n",
    "from mpltools.animation import Animation\n",
    "plt.rc('contour', negative_linestyle='solid')\n",
    "\n",
    "class StreamFuncAnim(Animation):\n",
    "\n",
    "    def __init__(self, stream_function, dt=0.05, xlim=(-1, 1), ylim=None):\n",
    "        self.dt = dt\n",
    "        # Initialize velocity field and displace *functions*\n",
    "        self.u, self.v = velocity_field(stream_function)\n",
    "        self.displace = displace_func_from_velocity_funcs(self.u, self.v)\n",
    "        # Save bounds of plot\n",
    "        self.xlim = xlim\n",
    "        self.ylim = ylim if ylim is not None else xlim\n",
    "        # Animation objects must create `fig` and `ax` attributes.\n",
    "        self.fig, self.ax = plt.subplots()\n",
    "        self.ax.set_aspect('equal')\n",
    "\n",
    "    def init_background(self):\n",
    "        \"\"\"Draw background with streamlines of flow.\n",
    "\n",
    "        Note: artists drawn here aren't removed or updated between frames.\n",
    "        \"\"\"\n",
    "        x0, x1 = self.xlim\n",
    "        y0, y1 = self.ylim\n",
    "        # Create 100 x 100 grid of coordinates.\n",
    "        Y, X =  np.mgrid[x0:x1:100j, y0:y1:100j]\n",
    "        # Horizontal and vertical velocities corresponding to coordinates.\n",
    "        U = self.u(X, Y)\n",
    "        V = self.v(X, Y)\n",
    "        self.ax.streamplot(X, Y, U, V, color='0.7')\n",
    "\n",
    "    def update(self):\n",
    "        \"\"\"Update locations of \"particles\" in flow on each frame frame.\"\"\"\n",
    "        pts = []\n",
    "        while True:\n",
    "            pts = list(pts)\n",
    "            pts.append((self.xlim[0], random_y(self.ylim)))\n",
    "            pts = self.displace(pts, self.dt)\n",
    "            pts = np.asarray(pts)\n",
    "            pts = remove_particles(pts, self.xlim, self.ylim)\n",
    "            self.ax.lines = []\n",
    "\n",
    "            x, y = np.asarray(pts).transpose()\n",
    "            lines, = self.ax.plot(x, y, 'ro')\n",
    "            yield lines, # return line so that blit works properly"
   ]
  },
  {
   "cell_type": "code",
   "execution_count": 5,
   "metadata": {},
   "outputs": [],
   "source": [
    "def random_y(ylim):\n",
    "    yrange = np.diff(ylim)\n",
    "    return yrange * np.random.rand(1)[0] + ylim[0]\n",
    "\n",
    "def remove_particles(pts, xlim, ylim):\n",
    "    if len(pts) == 0:\n",
    "        return []\n",
    "    outside_xlim = (pts[:, 0] < xlim[0]) | (pts[:, 0] > xlim[1])\n",
    "    outside_ylim = (pts[:, 1] < ylim[0]) | (pts[:, 1] > ylim[1])\n",
    "    keep = ~(outside_xlim|outside_ylim)\n",
    "    return pts[keep]"
   ]
  },
  {
   "cell_type": "code",
   "execution_count": 6,
   "metadata": {},
   "outputs": [],
   "source": [
    "import sympy\n",
    "from sympy.abc import x, y\n",
    "\n",
    "radius = 1\n",
    "\n",
    "def cylinder_stream_function(U=1, R=radius):\n",
    "    r = sympy.sqrt(x**2 + y**2)\n",
    "    psi = U * (r - R**2 / r) * sympy.sin(sympy.atan2(y, x))\n",
    "    return psi"
   ]
  },
  {
   "cell_type": "code",
   "execution_count": 7,
   "metadata": {},
   "outputs": [],
   "source": [
    "class CylinderFlow(StreamFuncAnim):\n",
    "    def init_background(self):\n",
    "        StreamFuncAnim.init_background(self)\n",
    "        c = plt.Circle((0, 0), radius=radius, facecolor='none')\n",
    "        self.ax.add_patch(c)"
   ]
  },
  {
   "cell_type": "code",
   "execution_count": 9,
   "metadata": {},
   "outputs": [
    {
     "name": "stderr",
     "output_type": "stream",
     "text": [
      "Traceback (most recent call last):\n",
      "  File \"C:\\ProgramData\\Anaconda2\\lib\\site-packages\\matplotlib\\cbook\\__init__.py\", line 215, in process\n",
      "    func(*args, **kwargs)\n",
      "  File \"C:\\ProgramData\\Anaconda2\\lib\\site-packages\\matplotlib\\animation.py\", line 999, in _start\n",
      "    self._init_draw()\n",
      "  File \"C:\\ProgramData\\Anaconda2\\lib\\site-packages\\matplotlib\\animation.py\", line 1746, in _init_draw\n",
      "    raise RuntimeError('The init_func must return a '\n",
      "RuntimeError: The init_func must return a sequence of Artist objects.\n"
     ]
    },
    {
     "data": {
      "image/png": "[encoded data removed]",
      "text/plain": [
       "<Figure size 432x288 with 1 Axes>"
      ]
     },
     "metadata": {
      "needs_background": "light"
     },
     "output_type": "display_data"
    }
   ],
   "source": [
    "stream_function = cylinder_stream_function()\n",
    "cylinder_flow = CylinderFlow(stream_function, xlim=(-3, 3))\n",
    "cylinder_flow.animate(blit=True)\n",
    "plt.show()"
   ]
  },
  {
   "cell_type": "code",
   "execution_count": null,
   "metadata": {},
   "outputs": [],
   "source": []
  },
  {
   "cell_type": "code",
   "execution_count": null,
   "metadata": {},
   "outputs": [],
   "source": []
  }
 ],
 "metadata": {
  "kernelspec": {
   "display_name": "Python 3",
   "language": "python",
   "name": "python3"
  },
  "language_info": {
   "codemirror_mode": {
    "name": "ipython",
    "version": 3
   },
   "file_extension": ".py",
   "mimetype": "text/x-python",
   "name": "python",
   "nbconvert_exporter": "python",
   "pygments_lexer": "ipython3",
   "version": "3.6.8"
  }
 },
 "nbformat": 4,
 "nbformat_minor": 2
}
