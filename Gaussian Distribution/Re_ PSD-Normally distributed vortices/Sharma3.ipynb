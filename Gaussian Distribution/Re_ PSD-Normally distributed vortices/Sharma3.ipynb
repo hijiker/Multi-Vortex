{
 "cells": [
  {
   "cell_type": "markdown",
   "metadata": {},
   "source": [
    "# Airfoil-Turbulence Interaction\n",
    "## Current status: airfoil is static\n",
    "### Next task: Convect the airfoil upstream"
   ]
  },
  {
   "cell_type": "code",
   "execution_count": 24,
   "metadata": {},
   "outputs": [],
   "source": [
    "# %matplotlib notebook\n",
    "import numpy as np\n",
    "import matplotlib.pyplot as plt\n",
    "from matplotlib.mlab import psd"
   ]
  },
  {
   "cell_type": "markdown",
   "metadata": {},
   "source": [
    "## NACA airfoil\n",
    "function to create a NACA four digit airfoil"
   ]
  },
  {
   "cell_type": "code",
   "execution_count": 25,
   "metadata": {},
   "outputs": [],
   "source": [
    "def naca_airfoil(code, num_points, zero_thick_te=False, uniform=False):\n",
    "    \"\"\"Return a NACA 4-digit series airfoil\"\"\"\n",
    "    # extract parameters from 4-digit code\n",
    "    code_str = \"%04d\" % int(code)\n",
    "    if len(code_str) != 4:\n",
    "        raise ValueError(\"NACA designation is more than 4 digits\")\n",
    "    max_camber = 0.01 * int(code_str[0])\n",
    "    p = 0.1 * int(code_str[1])  # location of max camber\n",
    "    thickness = 0.01 * int(code_str[2:])\n",
    "    if uniform:\n",
    "        x = np.linspace(0, 1, num_points)\n",
    "    else:\n",
    "        # closer spacing near leading edge\n",
    "        theta = np.linspace(0, 0.5 * np.pi, num_points)\n",
    "        x = 1 - np.cos(theta)\n",
    "\n",
    "    # thickness\n",
    "    coefs = [-0.1015, 0.2843, -0.3516, -0.1260, 0, 0.2969]\n",
    "    if zero_thick_te:\n",
    "        coefs[0] = -0.1036\n",
    "    y_thick = 5 * thickness * (np.polyval(coefs[:5], x) +\n",
    "                               coefs[5] * np.sqrt(x))\n",
    "\n",
    "    # camber\n",
    "    front = np.where(x <= p)\n",
    "    back = np.where(x > p)\n",
    "    y_camber = np.zeros_like(x)\n",
    "    if p:\n",
    "        y_camber[front] = max_camber * x[front] / p**2 * (2 * p - x[front])\n",
    "        y_camber[back] = max_camber * ((1. - x[back])/(1. - p)**2 *\n",
    "                                       (1 + x[back] - 2 * p))\n",
    "    x = np.hstack([x[-1:0:-1], x])\n",
    "    y = np.hstack([y_camber[-1:0:-1] + y_thick[-1:0:-1],\n",
    "                   y_camber - y_thick])\n",
    "    return (np.array([x, y]).T)"
   ]
  },
  {
   "cell_type": "markdown",
   "metadata": {},
   "source": [
    "# define airfoil & observation points on it\n",
    "The mid point between two coordinates on the airfoil surface will act as the observation point. The induced velocity from a vortex to the observation point on the airfoil surface will only have tangent component (flow-tangency and no flow-penetration at the surface). "
   ]
  },
  {
   "cell_type": "code",
   "execution_count": 26,
   "metadata": {},
   "outputs": [],
   "source": [
    "q = naca_airfoil(0012, 1001) #NACA0012 airfoil with 500\n",
    "q_mid = (q[1:] + q[:-1])/2 #mid-point on the panel\n",
    "\n",
    "#observation points on the airfoil\n",
    "obsx = q_mid[:,0]\n",
    "obsy = q_mid[:,1]\n",
    "obsX = np.vstack((obsx,obsy))\n",
    "\n",
    "dq = np.diff(q, axis=0) \n",
    "numpanels = dq.shape[0]\n",
    "lengths = np.linalg.norm(dq, axis=1) \n",
    "normals = np.transpose(np.array([dq[:,1], -dq[:,0]]) / lengths)\n",
    "tangents = -np.transpose(np.array([dq[:,0], dq[:,1]]) / lengths) "
   ]
  },
  {
   "cell_type": "markdown",
   "metadata": {},
   "source": [
    "## define parameters"
   ]
  },
  {
   "cell_type": "code",
   "execution_count": 27,
   "metadata": {},
   "outputs": [],
   "source": [
    "length = 10. #nondimensional length of window\n",
    "height = 1. #window height\n",
    "N = 100 #number of vortices\n",
    "gammas = 1. #vortex strength RMS (normal distribution)\n",
    "rscale = 0.1 #vortex size scale (rayleigh distribution parameter)\n",
    "t0 = -1.#start time for observation of convection\n",
    "t1 = 1.#end time\n",
    "ts = 0.001 # time step\n",
    "v0 = 5 #convection speed\n",
    "t = np.arange(t0,t1,ts)"
   ]
  },
  {
   "cell_type": "markdown",
   "metadata": {},
   "source": [
    "## set random distribution for vortex location, size and strength\n",
    "origin at window center"
   ]
  },
  {
   "cell_type": "code",
   "execution_count": 28,
   "metadata": {},
   "outputs": [],
   "source": [
    "vortx = np.random.uniform(low=-length/2,high=length/2,size=N)\n",
    "vorty = np.random.uniform(low=-height/2,high=height/2,size=N)\n",
    "vortX = np.vstack((vortx,vorty))\n",
    "gamma = np.random.normal(scale=gammas,size=N)\n",
    "rho = np.random.rayleigh(scale=rscale,size=N)"
   ]
  },
  {
   "cell_type": "markdown",
   "metadata": {},
   "source": [
    "vortex induced velocity is the minimum of $u_\\theta = \\frac{\\Gamma}{2 \\pi r}$ and $u_\\theta = \\frac{\\Gamma r}{2\\pi r_0^2}$"
   ]
  },
  {
   "cell_type": "code",
   "execution_count": 29,
   "metadata": {},
   "outputs": [],
   "source": [
    "dist = obsX[:,:,np.newaxis]-vortX[:,np.newaxis,:] # dim 2 x timesteps x N\n",
    "r = np.sqrt((dist*dist).sum(0)) # dim timesteps x N\n",
    "utheta = (0.5/np.pi)*gamma*np.minimum(1/r,r/rho) # dim timesteps x N\n",
    "# comment out one of the two following lines to get alternative vortex models:\n",
    "# utheta = (0.5/np.pi)*gamma/r \n",
    "# utheta = gamma*rho**(1.5)*np.exp(-9*rho*rho*r*r)\n",
    "# into cartesian coords\n",
    "uind = utheta * dist[::-1] # dim 2 x timesteps x N\n",
    "uind[0] *= -1 # change sign for ux (to get correct rotation)\n",
    "# sum over vortices\n",
    "utot = uind.sum(2) # dim 2 x timesteps \n",
    "utot_tangent = utot.T * tangents # surface tangent component"
   ]
  },
  {
   "cell_type": "markdown",
   "metadata": {},
   "source": [
    "## plot time histories and psd for induced velocity"
   ]
  },
  {
   "cell_type": "code",
   "execution_count": 30,
   "metadata": {},
   "outputs": [
    {
     "data": {
      "text/plain": [
       "<matplotlib.legend.Legend at 0xbffe710>"
      ]
     },
     "execution_count": 30,
     "metadata": {},
     "output_type": "execute_result"
    },
    {
     "data": {
      "image/png": "[encoded data removed]",
      "text/plain": [
       "<Figure size 432x288 with 2 Axes>"
      ]
     },
     "metadata": {},
     "output_type": "display_data"
    }
   ],
   "source": [
    "plt.figure(2)\n",
    "plt.subplot(1,2,1)\n",
    "plt.plot(t,utot_tangent[:,0],label='u')\n",
    "plt.plot(t,utot_tangent[:,1],label='v')\n",
    "plt.legend()\n",
    "plt.subplot(1,2,2)\n",
    "(valu,freq) = psd(utot_tangent[:,0],Fs=1/ts,detrend='mean')\n",
    "(valv,freq) = psd(utot_tangent[:,1],Fs=1/ts,detrend='mean')\n",
    "plt.loglog(freq[1:],valu[1:],label='u')\n",
    "plt.loglog(freq[1:],valv[1:],label='v')\n",
    "plt.loglog(freq[1:],valu[1:]+valv[1:],label='tot')\n",
    "plt.legend()"
   ]
  },
  {
   "cell_type": "code",
   "execution_count": null,
   "metadata": {},
   "outputs": [],
   "source": []
  },
  {
   "cell_type": "code",
   "execution_count": null,
   "metadata": {},
   "outputs": [],
   "source": []
  }
 ],
 "metadata": {
  "kernelspec": {
   "display_name": "Python 2",
   "language": "python",
   "name": "python2"
  },
  "language_info": {
   "codemirror_mode": {
    "name": "ipython",
    "version": 2
   },
   "file_extension": ".py",
   "mimetype": "text/x-python",
   "name": "python",
   "nbconvert_exporter": "python",
   "pygments_lexer": "ipython2",
   "version": "2.7.15"
  }
 },
 "nbformat": 4,
 "nbformat_minor": 2
}
